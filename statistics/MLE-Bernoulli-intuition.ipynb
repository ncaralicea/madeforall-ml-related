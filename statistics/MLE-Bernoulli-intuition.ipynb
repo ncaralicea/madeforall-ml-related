{
 "cells": [
  {
   "cell_type": "code",
   "execution_count": 291,
   "metadata": {
    "collapsed": true
   },
   "outputs": [],
   "source": [
    "# Maximum Likelihood Estimator (MLE) - Intuition for a Bernoulli Random Variable"
   ]
  },
  {
   "cell_type": "code",
   "execution_count": 292,
   "metadata": {
    "collapsed": true
   },
   "outputs": [],
   "source": [
    "import numpy as np\n",
    "import matplotlib.pyplot as plt\n",
    "from scipy.stats import bernoulli"
   ]
  },
  {
   "cell_type": "code",
   "execution_count": 293,
   "metadata": {
    "collapsed": true
   },
   "outputs": [],
   "source": [
    "## Generate a Bernoulli distribution\n",
    "\n",
    "### The goal of this script is to check that indeed the estimated probability provided by MLE\n",
    "### by using a sample from the given distribution is having indeed a value close to the provided probability\n",
    "### of the given random variable."
   ]
  },
  {
   "cell_type": "code",
   "execution_count": 294,
   "metadata": {
    "collapsed": true
   },
   "outputs": [],
   "source": [
    "# Setting\n",
    "p = 0.7\n",
    "samples_size = 10000\n",
    "\n",
    "# Generate a random samples from a Bernoulli distribution\n",
    "samples = bernoulli.rvs(p, size=samples_size)\n"
   ]
  },
  {
   "cell_type": "code",
   "execution_count": 300,
   "metadata": {
    "collapsed": true
   },
   "outputs": [],
   "source": [
    "# Goal: Calculate the estimated probability by using the result derived from MLE regarding the estimation of p_estimated"
   ]
  },
  {
   "cell_type": "code",
   "execution_count": 301,
   "metadata": {
    "collapsed": true
   },
   "outputs": [],
   "source": [
    "# Please read the related post to understand how this formula had been derived\n",
    "p_estimated = np.mean(samples)"
   ]
  },
  {
   "cell_type": "code",
   "execution_count": 304,
   "metadata": {},
   "outputs": [
    {
     "name": "stdout",
     "output_type": "stream",
     "text": [
      "Probability of the random variable:  0.7\n",
      "Estimated probability:  0.697\n",
      "The two values should be close enough. Isn`t MLE Magical? :) !! -> 0.697 ~ 0.7\n"
     ]
    }
   ],
   "source": [
    "# Results\n",
    "print('Probability of the random variable: ', p)\n",
    "print('Estimated probability: ', p_estimated)\n",
    "print('The two values should be close enough. Isn`t MLE Magical? :) !! -> {0} ~ {1}'.format(p_estimated, p))"
   ]
  },
  {
   "cell_type": "code",
   "execution_count": 305,
   "metadata": {
    "collapsed": true
   },
   "outputs": [],
   "source": [
    "# Visualizing our data to get some more intuition....\n",
    "# Show the histogram for the given samples\n",
    "# Check the probability of the 1-Outcome. It should be indeed close to the p_estimated."
   ]
  },
  {
   "cell_type": "code",
   "execution_count": 307,
   "metadata": {},
   "outputs": [
    {
     "data": {
      "image/png": "[encoded data removed]",
      "text/plain": [
       "<matplotlib.figure.Figure at 0x7f54a4f58240>"
      ]
     },
     "metadata": {},
     "output_type": "display_data"
    }
   ],
   "source": [
    "# calculate the weights\n",
    "weights = np.zeros_like(samples) + 1. / samples_size\n",
    "\n",
    "# plot the histogram\n",
    "plt.hist(samples, bins=2, align=\"mid\", weights = weights)\n",
    "\n",
    "tick_positions = [0.25, 0.75]\n",
    "tick_labels = ['0','1']\n",
    "plt.xticks(tick_positions, tick_labels)\n",
    "\n",
    "plt.ylim(0, 1.0)\n",
    "plt.title(\"Bernoulli Distribution. The estimated probability from the given samples is \" + str(p_estimated))\n",
    "plt.xlabel(\"Outcome\")\n",
    "plt.ylabel(\"Probability\") \n",
    "plt.show()"
   ]
  },
  {
   "cell_type": "code",
   "execution_count": null,
   "metadata": {
    "collapsed": true
   },
   "outputs": [],
   "source": []
  }
 ],
 "metadata": {
  "kernelspec": {
   "display_name": "Python 3",
   "language": "python",
   "name": "python3"
  },
  "language_info": {
   "codemirror_mode": {
    "name": "ipython",
    "version": 3
   },
   "file_extension": ".py",
   "mimetype": "text/x-python",
   "name": "python",
   "nbconvert_exporter": "python",
   "pygments_lexer": "ipython3",
   "version": "3.4.3"
  }
 },
 "nbformat": 4,
 "nbformat_minor": 2
}
